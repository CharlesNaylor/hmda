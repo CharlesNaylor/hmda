{
 "cells": [
  {
   "cell_type": "markdown",
   "metadata": {},
   "source": [
    "# Modeling\n",
    "\n",
    "We will establish a baseline with relatively hands-off machine-learning classifiers before using a more easily interpretable model."
   ]
  },
  {
   "cell_type": "code",
   "execution_count": 1,
   "metadata": {},
   "outputs": [
    {
     "name": "stderr",
     "output_type": "stream",
     "text": [
      "/usr/lib/python3.6/importlib/_bootstrap.py:219: RuntimeWarning: numpy.dtype size changed, may indicate binary incompatibility. Expected 96, got 88\n",
      "  return f(*args, **kwds)\n",
      "/usr/lib/python3.6/importlib/_bootstrap.py:219: RuntimeWarning: numpy.dtype size changed, may indicate binary incompatibility. Expected 96, got 88\n",
      "  return f(*args, **kwds)\n"
     ]
    }
   ],
   "source": [
    "import pandas as pd\n",
    "import numpy as np\n",
    "import seaborn as sns\n",
    "import os\n",
    "import pickle\n",
    "\n",
    "hmda = pd.read_parquet(\"processed_data.pqt\")\n",
    "with open(\"concordance.pkl\", \"rb\") as f:\n",
    "    concordances = pickle.load(f)"
   ]
  },
  {
   "cell_type": "code",
   "execution_count": 2,
   "metadata": {},
   "outputs": [
    {
     "name": "stdout",
     "output_type": "stream",
     "text": [
      "Populating the interactive namespace from numpy and matplotlib\n"
     ]
    },
    {
     "name": "stderr",
     "output_type": "stream",
     "text": [
      "/home/cnaylor/env/tensorflow/lib/python3.6/site-packages/IPython/core/magics/pylab.py:160: UserWarning: pylab import has clobbered these variables: ['f']\n",
      "`%matplotlib` prevents importing * from pylab and numpy\n",
      "  \"\\n`%matplotlib` prevents importing * from pylab and numpy\"\n"
     ]
    }
   ],
   "source": [
    "%pylab inline"
   ]
  },
  {
   "cell_type": "markdown",
   "metadata": {},
   "source": [
    "# Transformations\n",
    "\n",
    "We may want to add additional factors later, but for now we definitely want to transform income and hud_median_income to ratios, of the loan amount and of income, respectively."
   ]
  },
  {
   "cell_type": "code",
   "execution_count": 3,
   "metadata": {},
   "outputs": [
    {
     "data": {
      "text/plain": [
       "<matplotlib.axes._subplots.AxesSubplot at 0x7fde345ce978>"
      ]
     },
     "execution_count": 3,
     "metadata": {},
     "output_type": "execute_result"
    },
    {
     "data": {
      "image/png": "[encoded data removed]",
      "text/plain": [
       "<Figure size 432x288 with 1 Axes>"
      ]
     },
     "metadata": {},
     "output_type": "display_data"
    }
   ],
   "source": [
    "hmda.loc[:, 'income_to_loan'] = hmda['applicant_income_000s'].div(hmda['loan_amount_000s'])\n",
    "hmda.loc[:, 'income_to_med_income'] = hmda['loan_amount_000s'].mul(1000).div(hmda['hud_median_family_income'])\n",
    "hmda.loc[:, 'income_to_loan'].dropna().plot(kind='hist', logy=True)"
   ]
  },
  {
   "cell_type": "code",
   "execution_count": 4,
   "metadata": {},
   "outputs": [
    {
     "data": {
      "text/plain": [
       "<matplotlib.axes._subplots.AxesSubplot at 0x7fde346a3160>"
      ]
     },
     "execution_count": 4,
     "metadata": {},
     "output_type": "execute_result"
    },
    {
     "data": {
      "image/png": "[encoded data removed]",
      "text/plain": [
       "<Figure size 432x288 with 1 Axes>"
      ]
     },
     "metadata": {},
     "output_type": "display_data"
    }
   ],
   "source": [
    "hmda.loc[:, 'income_to_med_income'].dropna().plot(kind='hist', logy=True)"
   ]
  },
  {
   "cell_type": "markdown",
   "metadata": {},
   "source": [
    "All of the action we care about is in the ratio < 1, I expect."
   ]
  },
  {
   "cell_type": "markdown",
   "metadata": {},
   "source": [
    "## Testing and Training samples."
   ]
  },
  {
   "cell_type": "code",
   "execution_count": 5,
   "metadata": {},
   "outputs": [
    {
     "data": {
      "text/plain": [
       "(31743, 33)"
      ]
     },
     "execution_count": 5,
     "metadata": {},
     "output_type": "execute_result"
    }
   ],
   "source": [
    "from sklearn.model_selection import train_test_split\n",
    "hmda_train, hmda_test = train_test_split(hmda.dropna(), test_size=0.99) #high proportion of test data to speed up modeling\n",
    "hmda_train.shape"
   ]
  },
  {
   "cell_type": "markdown",
   "metadata": {},
   "source": [
    "## SVM\n",
    "\n",
    "We need to convert the continuous or high-category data into a few factors, but otherwise we should be able to run a support vector machine without much trouble. I'm going to try a linear kernel on normalized data. With a linear kernel, we can look at coefficients to determine what was important to the fit."
   ]
  },
  {
   "cell_type": "code",
   "execution_count": 17,
   "metadata": {},
   "outputs": [],
   "source": [
    "from sklearn.preprocessing import StandardScaler, KBinsDiscretizer, Binarizer, OneHotEncoder\n",
    "from sklearn_pandas import DataFrameMapper\n",
    "from sklearn.pipeline import make_pipeline\n",
    "from sklearn.svm import SVC, LinearSVC"
   ]
  },
  {
   "cell_type": "code",
   "execution_count": 35,
   "metadata": {},
   "outputs": [
    {
     "name": "stderr",
     "output_type": "stream",
     "text": [
      "/home/cnaylor/env/tensorflow/lib/python3.6/site-packages/sklearn/preprocessing/_encoders.py:363: FutureWarning: The handling of integer data will change in version 0.22. Currently, the categories are determined based on the range [0, max(values)], while in the future they will be determined based on the unique values.\n",
      "If you want the future behaviour and silence this warning, you can specify \"categories='auto'\".\n",
      "In case you used a LabelEncoder before this OneHotEncoder to convert the categories to integers, then you can now use the OneHotEncoder directly.\n",
      "  warnings.warn(msg, FutureWarning)\n",
      "/home/cnaylor/env/tensorflow/lib/python3.6/site-packages/sklearn/preprocessing/_encoders.py:363: FutureWarning: The handling of integer data will change in version 0.22. Currently, the categories are determined based on the range [0, max(values)], while in the future they will be determined based on the unique values.\n",
      "If you want the future behaviour and silence this warning, you can specify \"categories='auto'\".\n",
      "In case you used a LabelEncoder before this OneHotEncoder to convert the categories to integers, then you can now use the OneHotEncoder directly.\n",
      "  warnings.warn(msg, FutureWarning)\n",
      "/home/cnaylor/env/tensorflow/lib/python3.6/site-packages/sklearn/preprocessing/_encoders.py:363: FutureWarning: The handling of integer data will change in version 0.22. Currently, the categories are determined based on the range [0, max(values)], while in the future they will be determined based on the unique values.\n",
      "If you want the future behaviour and silence this warning, you can specify \"categories='auto'\".\n",
      "In case you used a LabelEncoder before this OneHotEncoder to convert the categories to integers, then you can now use the OneHotEncoder directly.\n",
      "  warnings.warn(msg, FutureWarning)\n",
      "/home/cnaylor/env/tensorflow/lib/python3.6/site-packages/sklearn/preprocessing/_encoders.py:363: FutureWarning: The handling of integer data will change in version 0.22. Currently, the categories are determined based on the range [0, max(values)], while in the future they will be determined based on the unique values.\n",
      "If you want the future behaviour and silence this warning, you can specify \"categories='auto'\".\n",
      "In case you used a LabelEncoder before this OneHotEncoder to convert the categories to integers, then you can now use the OneHotEncoder directly.\n",
      "  warnings.warn(msg, FutureWarning)\n",
      "/home/cnaylor/env/tensorflow/lib/python3.6/site-packages/sklearn/preprocessing/_encoders.py:363: FutureWarning: The handling of integer data will change in version 0.22. Currently, the categories are determined based on the range [0, max(values)], while in the future they will be determined based on the unique values.\n",
      "If you want the future behaviour and silence this warning, you can specify \"categories='auto'\".\n",
      "In case you used a LabelEncoder before this OneHotEncoder to convert the categories to integers, then you can now use the OneHotEncoder directly.\n",
      "  warnings.warn(msg, FutureWarning)\n"
     ]
    },
    {
     "data": {
      "text/plain": [
       "Pipeline(memory=None,\n",
       "     steps=[('dataframemapper', DataFrameMapper(default=False, df_out=False,\n",
       "        features=[(['population'], KBinsDiscretizer(encode='onehot', n_bins=3, strategy='quantile')), (['applicant_income_000s'], KBinsDiscretizer(encode='onehot', n_bins=5, strategy='quantile')), (['loan_amount_000s'], Binarize...r', max_iter=-1, probability=False, random_state=None,\n",
       "  shrinking=True, tol=0.001, verbose=False))])"
      ]
     },
     "execution_count": 35,
     "metadata": {},
     "output_type": "execute_result"
    }
   ],
   "source": [
    "mapper = DataFrameMapper([\n",
    "    (['population'], KBinsDiscretizer(n_bins=3)),\n",
    "    (['applicant_income_000s'], KBinsDiscretizer(n_bins=5)),\n",
    "    (['loan_amount_000s'], Binarizer(threshold=700)), # > ~700 are non-conforming loans for FHA\n",
    "    (['minority_population'], KBinsDiscretizer(n_bins=3)),\n",
    "    (['income_to_loan'], KBinsDiscretizer(n_bins=5)),\n",
    "    (['income_to_med_income'], KBinsDiscretizer(n_bins=3)),\n",
    "    (['applicant_ethnicity'], OneHotEncoder()),\n",
    "    (['applicant_race_1'], OneHotEncoder()),\n",
    "    (['applicant_sex'], OneHotEncoder()),\n",
    "    (['as_of_year'], OneHotEncoder()),\n",
    "    (['loan_purpose'], OneHotEncoder())\n",
    "     ])\n",
    "pipe = make_pipeline(mapper, StandardScaler(), SVC(kernel='linear', class_weight='balanced')) #class_weight is set to fix the unbalanced outcomes vector (many more approvals than rejections)\n",
    "pipe.fit(hmda_train, hmda_train.approved.astype(\"float\"))"
   ]
  },
  {
   "cell_type": "code",
   "execution_count": 116,
   "metadata": {},
   "outputs": [],
   "source": [
    "concordances['applicant_race_1'][7] = \"NA\""
   ]
  },
  {
   "cell_type": "code",
   "execution_count": 155,
   "metadata": {},
   "outputs": [],
   "source": [
    "coef_names = []\n",
    "for (nm, transformer) in pipe.named_steps['dataframemapper'].features:\n",
    "    if isinstance(transformer, KBinsDiscretizer):\n",
    "        coef_names.extend([f\"{nm[0]}_{v}\" for v in transformer.bin_edges_[0][:-1]])\n",
    "    elif isinstance(transformer, Binarizer):\n",
    "        coef_names.extend([f\"{nm[0]}\"])\n",
    "    elif isinstance(transformer, OneHotEncoder):\n",
    "        if nm[0] in concordances:\n",
    "            coef_names.extend([\"{}_{}\".format(nm[0],concordances[nm[0]][int(v[3])]) for v in transformer.get_feature_names()])\n",
    "        else:\n",
    "            coef_names.extend(transformer.get_feature_names())"
   ]
  },
  {
   "cell_type": "code",
   "execution_count": 156,
   "metadata": {},
   "outputs": [
    {
     "data": {
      "text/html": [
       "<div>\n",
       "<style scoped>\n",
       "    .dataframe tbody tr th:only-of-type {\n",
       "        vertical-align: middle;\n",
       "    }\n",
       "\n",
       "    .dataframe tbody tr th {\n",
       "        vertical-align: top;\n",
       "    }\n",
       "\n",
       "    .dataframe thead th {\n",
       "        text-align: right;\n",
       "    }\n",
       "</style>\n",
       "<table border=\"1\" class=\"dataframe\">\n",
       "  <thead>\n",
       "    <tr style=\"text-align: right;\">\n",
       "      <th></th>\n",
       "      <th>names</th>\n",
       "      <th>coefficient</th>\n",
       "    </tr>\n",
       "  </thead>\n",
       "  <tbody>\n",
       "    <tr>\n",
       "      <th>47</th>\n",
       "      <td>loan_purpose_Refinancing</td>\n",
       "      <td>-0.46014</td>\n",
       "    </tr>\n",
       "    <tr>\n",
       "      <th>46</th>\n",
       "      <td>loan_purpose_Home improvement</td>\n",
       "      <td>-0.18000</td>\n",
       "    </tr>\n",
       "    <tr>\n",
       "      <th>28</th>\n",
       "      <td>applicant_race_1_White</td>\n",
       "      <td>-0.00031</td>\n",
       "    </tr>\n",
       "    <tr>\n",
       "      <th>29</th>\n",
       "      <td>applicant_race_1_Information not provided by a...</td>\n",
       "      <td>-0.00024</td>\n",
       "    </tr>\n",
       "    <tr>\n",
       "      <th>26</th>\n",
       "      <td>applicant_race_1_Black or African American</td>\n",
       "      <td>-0.00019</td>\n",
       "    </tr>\n",
       "    <tr>\n",
       "      <th>25</th>\n",
       "      <td>applicant_race_1_Asian</td>\n",
       "      <td>-0.00017</td>\n",
       "    </tr>\n",
       "    <tr>\n",
       "      <th>24</th>\n",
       "      <td>applicant_race_1_American Indian or Alaska Native</td>\n",
       "      <td>-0.00004</td>\n",
       "    </tr>\n",
       "    <tr>\n",
       "      <th>27</th>\n",
       "      <td>applicant_race_1_Native Hawaiian or Other Paci...</td>\n",
       "      <td>-0.00004</td>\n",
       "    </tr>\n",
       "    <tr>\n",
       "      <th>3</th>\n",
       "      <td>applicant_income_000s_1.0</td>\n",
       "      <td>-0.00003</td>\n",
       "    </tr>\n",
       "    <tr>\n",
       "      <th>12</th>\n",
       "      <td>income_to_loan_0.0024390243902439024</td>\n",
       "      <td>-0.00003</td>\n",
       "    </tr>\n",
       "    <tr>\n",
       "      <th>19</th>\n",
       "      <td>income_to_med_income_3.851351351351351</td>\n",
       "      <td>-0.00002</td>\n",
       "    </tr>\n",
       "    <tr>\n",
       "      <th>36</th>\n",
       "      <td>x0_2008.0</td>\n",
       "      <td>-0.00001</td>\n",
       "    </tr>\n",
       "    <tr>\n",
       "      <th>4</th>\n",
       "      <td>applicant_income_000s_51.0</td>\n",
       "      <td>-0.00001</td>\n",
       "    </tr>\n",
       "    <tr>\n",
       "      <th>2</th>\n",
       "      <td>population_5524.0</td>\n",
       "      <td>-0.00001</td>\n",
       "    </tr>\n",
       "    <tr>\n",
       "      <th>35</th>\n",
       "      <td>x0_2007.0</td>\n",
       "      <td>-0.00001</td>\n",
       "    </tr>\n",
       "    <tr>\n",
       "      <th>42</th>\n",
       "      <td>x0_2014.0</td>\n",
       "      <td>-0.00001</td>\n",
       "    </tr>\n",
       "    <tr>\n",
       "      <th>0</th>\n",
       "      <td>population_68.0</td>\n",
       "      <td>-0.00001</td>\n",
       "    </tr>\n",
       "    <tr>\n",
       "      <th>21</th>\n",
       "      <td>applicant_ethnicity_Not Hispanic or Latino</td>\n",
       "      <td>-0.00001</td>\n",
       "    </tr>\n",
       "    <tr>\n",
       "      <th>11</th>\n",
       "      <td>minority_population_23.979999542236328</td>\n",
       "      <td>-0.00001</td>\n",
       "    </tr>\n",
       "    <tr>\n",
       "      <th>8</th>\n",
       "      <td>loan_amount_000s</td>\n",
       "      <td>-0.00001</td>\n",
       "    </tr>\n",
       "    <tr>\n",
       "      <th>22</th>\n",
       "      <td>applicant_ethnicity_Information not provided b...</td>\n",
       "      <td>-0.00001</td>\n",
       "    </tr>\n",
       "    <tr>\n",
       "      <th>14</th>\n",
       "      <td>income_to_loan_0.3693181818181818</td>\n",
       "      <td>-0.00000</td>\n",
       "    </tr>\n",
       "    <tr>\n",
       "      <th>39</th>\n",
       "      <td>x0_2011.0</td>\n",
       "      <td>-0.00000</td>\n",
       "    </tr>\n",
       "    <tr>\n",
       "      <th>15</th>\n",
       "      <td>income_to_loan_0.49030993278566104</td>\n",
       "      <td>-0.00000</td>\n",
       "    </tr>\n",
       "    <tr>\n",
       "      <th>32</th>\n",
       "      <td>applicant_sex_Female</td>\n",
       "      <td>-0.00000</td>\n",
       "    </tr>\n",
       "    <tr>\n",
       "      <th>10</th>\n",
       "      <td>minority_population_8.460000038146973</td>\n",
       "      <td>-0.00000</td>\n",
       "    </tr>\n",
       "    <tr>\n",
       "      <th>37</th>\n",
       "      <td>x0_2009.0</td>\n",
       "      <td>-0.00000</td>\n",
       "    </tr>\n",
       "    <tr>\n",
       "      <th>34</th>\n",
       "      <td>applicant_sex_Not applicable</td>\n",
       "      <td>0.00000</td>\n",
       "    </tr>\n",
       "    <tr>\n",
       "      <th>33</th>\n",
       "      <td>applicant_sex_Information not provided by appl...</td>\n",
       "      <td>0.00000</td>\n",
       "    </tr>\n",
       "    <tr>\n",
       "      <th>31</th>\n",
       "      <td>applicant_sex_Male</td>\n",
       "      <td>0.00000</td>\n",
       "    </tr>\n",
       "    <tr>\n",
       "      <th>43</th>\n",
       "      <td>x0_2015.0</td>\n",
       "      <td>0.00000</td>\n",
       "    </tr>\n",
       "    <tr>\n",
       "      <th>40</th>\n",
       "      <td>x0_2012.0</td>\n",
       "      <td>0.00000</td>\n",
       "    </tr>\n",
       "    <tr>\n",
       "      <th>23</th>\n",
       "      <td>applicant_ethnicity_Not applicable</td>\n",
       "      <td>0.00001</td>\n",
       "    </tr>\n",
       "    <tr>\n",
       "      <th>9</th>\n",
       "      <td>minority_population_0.3400000035762787</td>\n",
       "      <td>0.00001</td>\n",
       "    </tr>\n",
       "    <tr>\n",
       "      <th>18</th>\n",
       "      <td>income_to_med_income_2.0071303373528733</td>\n",
       "      <td>0.00001</td>\n",
       "    </tr>\n",
       "    <tr>\n",
       "      <th>6</th>\n",
       "      <td>applicant_income_000s_100.0</td>\n",
       "      <td>0.00001</td>\n",
       "    </tr>\n",
       "    <tr>\n",
       "      <th>41</th>\n",
       "      <td>x0_2013.0</td>\n",
       "      <td>0.00001</td>\n",
       "    </tr>\n",
       "    <tr>\n",
       "      <th>5</th>\n",
       "      <td>applicant_income_000s_74.0</td>\n",
       "      <td>0.00001</td>\n",
       "    </tr>\n",
       "    <tr>\n",
       "      <th>44</th>\n",
       "      <td>x0_2016.0</td>\n",
       "      <td>0.00001</td>\n",
       "    </tr>\n",
       "    <tr>\n",
       "      <th>17</th>\n",
       "      <td>income_to_med_income_0.009416195856873822</td>\n",
       "      <td>0.00001</td>\n",
       "    </tr>\n",
       "    <tr>\n",
       "      <th>38</th>\n",
       "      <td>x0_2010.0</td>\n",
       "      <td>0.00001</td>\n",
       "    </tr>\n",
       "    <tr>\n",
       "      <th>13</th>\n",
       "      <td>income_to_loan_0.2753369863013698</td>\n",
       "      <td>0.00002</td>\n",
       "    </tr>\n",
       "    <tr>\n",
       "      <th>1</th>\n",
       "      <td>population_3896.0</td>\n",
       "      <td>0.00002</td>\n",
       "    </tr>\n",
       "    <tr>\n",
       "      <th>16</th>\n",
       "      <td>income_to_loan_0.7101943346508566</td>\n",
       "      <td>0.00002</td>\n",
       "    </tr>\n",
       "    <tr>\n",
       "      <th>20</th>\n",
       "      <td>applicant_ethnicity_Hispanic or Latino</td>\n",
       "      <td>0.00002</td>\n",
       "    </tr>\n",
       "    <tr>\n",
       "      <th>7</th>\n",
       "      <td>applicant_income_000s_149.0</td>\n",
       "      <td>0.00002</td>\n",
       "    </tr>\n",
       "    <tr>\n",
       "      <th>30</th>\n",
       "      <td>applicant_race_1_NA</td>\n",
       "      <td>0.02509</td>\n",
       "    </tr>\n",
       "    <tr>\n",
       "      <th>45</th>\n",
       "      <td>loan_purpose_Home purchase</td>\n",
       "      <td>0.53449</td>\n",
       "    </tr>\n",
       "  </tbody>\n",
       "</table>\n",
       "</div>"
      ],
      "text/plain": [
       "                                                names  coefficient\n",
       "47                           loan_purpose_Refinancing     -0.46014\n",
       "46                      loan_purpose_Home improvement     -0.18000\n",
       "28                             applicant_race_1_White     -0.00031\n",
       "29  applicant_race_1_Information not provided by a...     -0.00024\n",
       "26         applicant_race_1_Black or African American     -0.00019\n",
       "25                             applicant_race_1_Asian     -0.00017\n",
       "24  applicant_race_1_American Indian or Alaska Native     -0.00004\n",
       "27  applicant_race_1_Native Hawaiian or Other Paci...     -0.00004\n",
       "3                           applicant_income_000s_1.0     -0.00003\n",
       "12               income_to_loan_0.0024390243902439024     -0.00003\n",
       "19             income_to_med_income_3.851351351351351     -0.00002\n",
       "36                                          x0_2008.0     -0.00001\n",
       "4                          applicant_income_000s_51.0     -0.00001\n",
       "2                                   population_5524.0     -0.00001\n",
       "35                                          x0_2007.0     -0.00001\n",
       "42                                          x0_2014.0     -0.00001\n",
       "0                                     population_68.0     -0.00001\n",
       "21         applicant_ethnicity_Not Hispanic or Latino     -0.00001\n",
       "11             minority_population_23.979999542236328     -0.00001\n",
       "8                                    loan_amount_000s     -0.00001\n",
       "22  applicant_ethnicity_Information not provided b...     -0.00001\n",
       "14                  income_to_loan_0.3693181818181818     -0.00000\n",
       "39                                          x0_2011.0     -0.00000\n",
       "15                 income_to_loan_0.49030993278566104     -0.00000\n",
       "32                               applicant_sex_Female     -0.00000\n",
       "10              minority_population_8.460000038146973     -0.00000\n",
       "37                                          x0_2009.0     -0.00000\n",
       "34                       applicant_sex_Not applicable      0.00000\n",
       "33  applicant_sex_Information not provided by appl...      0.00000\n",
       "31                                 applicant_sex_Male      0.00000\n",
       "43                                          x0_2015.0      0.00000\n",
       "40                                          x0_2012.0      0.00000\n",
       "23                 applicant_ethnicity_Not applicable      0.00001\n",
       "9              minority_population_0.3400000035762787      0.00001\n",
       "18            income_to_med_income_2.0071303373528733      0.00001\n",
       "6                         applicant_income_000s_100.0      0.00001\n",
       "41                                          x0_2013.0      0.00001\n",
       "5                          applicant_income_000s_74.0      0.00001\n",
       "44                                          x0_2016.0      0.00001\n",
       "17          income_to_med_income_0.009416195856873822      0.00001\n",
       "38                                          x0_2010.0      0.00001\n",
       "13                  income_to_loan_0.2753369863013698      0.00002\n",
       "1                                   population_3896.0      0.00002\n",
       "16                  income_to_loan_0.7101943346508566      0.00002\n",
       "20             applicant_ethnicity_Hispanic or Latino      0.00002\n",
       "7                         applicant_income_000s_149.0      0.00002\n",
       "30                                applicant_race_1_NA      0.02509\n",
       "45                         loan_purpose_Home purchase      0.53449"
      ]
     },
     "execution_count": 156,
     "metadata": {},
     "output_type": "execute_result"
    }
   ],
   "source": [
    "pd.DataFrame({'names':coef_names, 'coefficient':pipe.named_steps['svc'].coef_.ravel()}).sort_values('coefficient').round(5)"
   ]
  },
  {
   "cell_type": "markdown",
   "metadata": {},
   "source": [
    "* Very few coefficients were significant. This is not a good fit.\n",
    "* Loan purpose turned up as inordinately important, with home purchases being much more likely to be approved. \n",
    "* Non-conforming (>\\$700k) loans actually were more likely to be approved.\n",
    "* Race and ethnicity show up as some of the most important factors, but the pattern is not what might be expected. Hispanics were more likely to be approved, and Whites were significantly less likely. This is a big surprise."
   ]
  },
  {
   "cell_type": "code",
   "execution_count": 45,
   "metadata": {},
   "outputs": [
    {
     "data": {
      "text/plain": [
       "array([[19488,  7616],\n",
       "       [36713, 36183]])"
      ]
     },
     "execution_count": 45,
     "metadata": {},
     "output_type": "execute_result"
    }
   ],
   "source": [
    "from sklearn.metrics import confusion_matrix\n",
    "svm_hat = pipe.predict(hmda_test.iloc[:100000,:])\n",
    "confusion_matrix(hmda_test.approved.astype(\"float\").iloc[:100000], svm_hat)"
   ]
  },
  {
   "cell_type": "markdown",
   "metadata": {},
   "source": [
    "Not a particularly effective fit, with as many false negatives as true positives. It looks as though the SVM wasn't able to handle the unbalanced outcome."
   ]
  },
  {
   "cell_type": "markdown",
   "metadata": {},
   "source": [
    "### PCA (Again)\n",
    "\n",
    "Having done all that work on proper encoding of features, let's just check if a Principal Components Analysis is more effective now."
   ]
  },
  {
   "cell_type": "code",
   "execution_count": 144,
   "metadata": {},
   "outputs": [
    {
     "name": "stderr",
     "output_type": "stream",
     "text": [
      "/home/cnaylor/env/tensorflow/lib/python3.6/site-packages/sklearn/preprocessing/_function_transformer.py:98: FutureWarning: The default validate=True will be replaced by validate=False in 0.22.\n",
      "  \"validate=False in 0.22.\", FutureWarning)\n",
      "/home/cnaylor/env/tensorflow/lib/python3.6/site-packages/sklearn/preprocessing/_function_transformer.py:98: FutureWarning: The default validate=True will be replaced by validate=False in 0.22.\n",
      "  \"validate=False in 0.22.\", FutureWarning)\n",
      "/home/cnaylor/env/tensorflow/lib/python3.6/site-packages/sklearn/preprocessing/_encoders.py:363: FutureWarning: The handling of integer data will change in version 0.22. Currently, the categories are determined based on the range [0, max(values)], while in the future they will be determined based on the unique values.\n",
      "If you want the future behaviour and silence this warning, you can specify \"categories='auto'\".\n",
      "In case you used a LabelEncoder before this OneHotEncoder to convert the categories to integers, then you can now use the OneHotEncoder directly.\n",
      "  warnings.warn(msg, FutureWarning)\n",
      "/home/cnaylor/env/tensorflow/lib/python3.6/site-packages/sklearn/preprocessing/_encoders.py:363: FutureWarning: The handling of integer data will change in version 0.22. Currently, the categories are determined based on the range [0, max(values)], while in the future they will be determined based on the unique values.\n",
      "If you want the future behaviour and silence this warning, you can specify \"categories='auto'\".\n",
      "In case you used a LabelEncoder before this OneHotEncoder to convert the categories to integers, then you can now use the OneHotEncoder directly.\n",
      "  warnings.warn(msg, FutureWarning)\n",
      "/home/cnaylor/env/tensorflow/lib/python3.6/site-packages/sklearn/preprocessing/_encoders.py:363: FutureWarning: The handling of integer data will change in version 0.22. Currently, the categories are determined based on the range [0, max(values)], while in the future they will be determined based on the unique values.\n",
      "If you want the future behaviour and silence this warning, you can specify \"categories='auto'\".\n",
      "In case you used a LabelEncoder before this OneHotEncoder to convert the categories to integers, then you can now use the OneHotEncoder directly.\n",
      "  warnings.warn(msg, FutureWarning)\n",
      "/home/cnaylor/env/tensorflow/lib/python3.6/site-packages/sklearn/preprocessing/_function_transformer.py:98: FutureWarning: The default validate=True will be replaced by validate=False in 0.22.\n",
      "  \"validate=False in 0.22.\", FutureWarning)\n",
      "/home/cnaylor/env/tensorflow/lib/python3.6/site-packages/sklearn/preprocessing/_function_transformer.py:98: FutureWarning: The default validate=True will be replaced by validate=False in 0.22.\n",
      "  \"validate=False in 0.22.\", FutureWarning)\n"
     ]
    },
    {
     "name": "stdout",
     "output_type": "stream",
     "text": [
      "[0.17828983 0.11431848 0.10865586 0.09033409 0.07278618]\n"
     ]
    }
   ],
   "source": [
    "from sklearn.decomposition import PCA\n",
    "pca_pipe = make_pipeline(mapper, StandardScaler(), PCA(n_components=5)) \n",
    "pca_pipe.fit(hmda_train)\n",
    "pca = pca_pipe.named_steps['pca']\n",
    "print(pca.explained_variance_ratio_)"
   ]
  },
  {
   "cell_type": "markdown",
   "metadata": {},
   "source": [
    "A bit better than before."
   ]
  },
  {
   "cell_type": "code",
   "execution_count": 150,
   "metadata": {},
   "outputs": [
    {
     "name": "stderr",
     "output_type": "stream",
     "text": [
      "/home/cnaylor/env/tensorflow/lib/python3.6/site-packages/sklearn/preprocessing/_function_transformer.py:98: FutureWarning: The default validate=True will be replaced by validate=False in 0.22.\n",
      "  \"validate=False in 0.22.\", FutureWarning)\n",
      "/home/cnaylor/env/tensorflow/lib/python3.6/site-packages/sklearn/preprocessing/_function_transformer.py:98: FutureWarning: The default validate=True will be replaced by validate=False in 0.22.\n",
      "  \"validate=False in 0.22.\", FutureWarning)\n"
     ]
    },
    {
     "data": {
      "image/png": "[encoded data removed]",
      "text/plain": [
       "<Figure size 432x288 with 1 Axes>"
      ]
     },
     "metadata": {},
     "output_type": "display_data"
    }
   ],
   "source": [
    "pca_hat = pd.DataFrame(pca_pipe.transform(hmda_train)[:5000,:2], columns=['pca_1', 'pca_2'])\n",
    "pca_hat.loc[:, 'approved'] =  hmda_train.iloc[:5000,:].approved.values\n",
    "ax = sns.scatterplot(x='pca_1', y='pca_2', hue='approved', data=pca_hat)\n",
    "ax.set_title(\"First 2 Principal Components of sample\")\n",
    "plt.show()"
   ]
  },
  {
   "cell_type": "markdown",
   "metadata": {},
   "source": [
    "That's what we get for using discretized data everywhere."
   ]
  },
  {
   "cell_type": "markdown",
   "metadata": {},
   "source": [
    "## Logit Regression\n",
    "\n",
    "We'll try only one other model as we have time constraints: a traditional logistic regression, with parameter choice informed by the SVM above.\n",
    "\n",
    "We'll use more continuous factors this time, although the extreme right skew in income and associated factors means we should either censor the data or, my preference, do a log transform on it."
   ]
  },
  {
   "cell_type": "code",
   "execution_count": 48,
   "metadata": {},
   "outputs": [
    {
     "name": "stderr",
     "output_type": "stream",
     "text": [
      "/home/cnaylor/env/tensorflow/lib/python3.6/site-packages/sklearn/preprocessing/_function_transformer.py:98: FutureWarning: The default validate=True will be replaced by validate=False in 0.22.\n",
      "  \"validate=False in 0.22.\", FutureWarning)\n",
      "/home/cnaylor/env/tensorflow/lib/python3.6/site-packages/sklearn/preprocessing/_function_transformer.py:98: FutureWarning: The default validate=True will be replaced by validate=False in 0.22.\n",
      "  \"validate=False in 0.22.\", FutureWarning)\n",
      "/home/cnaylor/env/tensorflow/lib/python3.6/site-packages/sklearn/preprocessing/_function_transformer.py:98: FutureWarning: The default validate=True will be replaced by validate=False in 0.22.\n",
      "  \"validate=False in 0.22.\", FutureWarning)\n",
      "/home/cnaylor/env/tensorflow/lib/python3.6/site-packages/sklearn/preprocessing/_function_transformer.py:98: FutureWarning: The default validate=True will be replaced by validate=False in 0.22.\n",
      "  \"validate=False in 0.22.\", FutureWarning)\n",
      "/home/cnaylor/env/tensorflow/lib/python3.6/site-packages/sklearn/preprocessing/_encoders.py:363: FutureWarning: The handling of integer data will change in version 0.22. Currently, the categories are determined based on the range [0, max(values)], while in the future they will be determined based on the unique values.\n",
      "If you want the future behaviour and silence this warning, you can specify \"categories='auto'\".\n",
      "In case you used a LabelEncoder before this OneHotEncoder to convert the categories to integers, then you can now use the OneHotEncoder directly.\n",
      "  warnings.warn(msg, FutureWarning)\n",
      "/home/cnaylor/env/tensorflow/lib/python3.6/site-packages/sklearn/preprocessing/_encoders.py:363: FutureWarning: The handling of integer data will change in version 0.22. Currently, the categories are determined based on the range [0, max(values)], while in the future they will be determined based on the unique values.\n",
      "If you want the future behaviour and silence this warning, you can specify \"categories='auto'\".\n",
      "In case you used a LabelEncoder before this OneHotEncoder to convert the categories to integers, then you can now use the OneHotEncoder directly.\n",
      "  warnings.warn(msg, FutureWarning)\n",
      "/home/cnaylor/env/tensorflow/lib/python3.6/site-packages/sklearn/preprocessing/_encoders.py:363: FutureWarning: The handling of integer data will change in version 0.22. Currently, the categories are determined based on the range [0, max(values)], while in the future they will be determined based on the unique values.\n",
      "If you want the future behaviour and silence this warning, you can specify \"categories='auto'\".\n",
      "In case you used a LabelEncoder before this OneHotEncoder to convert the categories to integers, then you can now use the OneHotEncoder directly.\n",
      "  warnings.warn(msg, FutureWarning)\n",
      "/home/cnaylor/env/tensorflow/lib/python3.6/site-packages/sklearn/preprocessing/_function_transformer.py:98: FutureWarning: The default validate=True will be replaced by validate=False in 0.22.\n",
      "  \"validate=False in 0.22.\", FutureWarning)\n",
      "/home/cnaylor/env/tensorflow/lib/python3.6/site-packages/sklearn/preprocessing/_function_transformer.py:98: FutureWarning: The default validate=True will be replaced by validate=False in 0.22.\n",
      "  \"validate=False in 0.22.\", FutureWarning)\n",
      "/home/cnaylor/env/tensorflow/lib/python3.6/site-packages/sklearn/preprocessing/_function_transformer.py:98: FutureWarning: The default validate=True will be replaced by validate=False in 0.22.\n",
      "  \"validate=False in 0.22.\", FutureWarning)\n",
      "/home/cnaylor/env/tensorflow/lib/python3.6/site-packages/sklearn/preprocessing/_function_transformer.py:98: FutureWarning: The default validate=True will be replaced by validate=False in 0.22.\n",
      "  \"validate=False in 0.22.\", FutureWarning)\n",
      "/home/cnaylor/env/tensorflow/lib/python3.6/site-packages/sklearn/linear_model/sag.py:334: ConvergenceWarning: The max_iter was reached which means the coef_ did not converge\n",
      "  \"the coef_ did not converge\", ConvergenceWarning)\n"
     ]
    },
    {
     "data": {
      "text/plain": [
       "Pipeline(memory=None,\n",
       "     steps=[('dataframemapper', DataFrameMapper(default=False, df_out=False,\n",
       "        features=[(['population'], FunctionTransformer(accept_sparse=False, check_inverse=True,\n",
       "          func=<ufunc 'log'>, inv_kw_args=None, inverse_func=None,\n",
       "          kw_args=None, pass_y='deprecated', validate=None)), (['... penalty='l2', random_state=None, solver='sag',\n",
       "          tol=0.0001, verbose=0, warm_start=False))])"
      ]
     },
     "execution_count": 48,
     "metadata": {},
     "output_type": "execute_result"
    }
   ],
   "source": [
    "from sklearn.preprocessing import FunctionTransformer\n",
    "from sklearn.linear_model import LogisticRegression\n",
    "Log = FunctionTransformer(np.log)\n",
    "Log1p = FunctionTransformer(np.log1p)\n",
    "mapper = DataFrameMapper([\n",
    "    (['population'], Log),\n",
    "    (['applicant_income_000s'], Log),\n",
    "    (['minority_population'], Binarizer(threshold=0.5)), #we know from graphing the data that there are relatively few mixed neighborhoods\n",
    "    (['income_to_loan'], Log1p), #We'll add one to these ratios as I suspect the threshold for denying a loan is somewhere down close to 0, nowhere near 1.\n",
    "    (['income_to_med_income'], Log1p),\n",
    "    (['applicant_ethnicity'], OneHotEncoder()),\n",
    "    (['applicant_race_1'], OneHotEncoder()),\n",
    "    (['loan_purpose'], OneHotEncoder())\n",
    "     ])\n",
    "pipe_logit = make_pipeline(mapper, LogisticRegression(solver=\"sag\")) #the SAG solver is supposed to be faster for large datasets. I believe the factors are approximately scaled as-is.\n",
    "pipe_logit.fit(hmda_train, hmda_train.approved)"
   ]
  },
  {
   "cell_type": "code",
   "execution_count": 153,
   "metadata": {},
   "outputs": [],
   "source": [
    "coef_names = []\n",
    "for (nm, transformer) in pipe_logit.named_steps['dataframemapper'].features:\n",
    "    if isinstance(transformer, (FunctionTransformer, Binarizer)):\n",
    "        coef_names.extend([f\"{nm[0]}\"])\n",
    "    elif isinstance(transformer, OneHotEncoder):\n",
    "        if nm[0] in concordances:\n",
    "            coef_names.extend([\"{}_{}\".format(nm[0],concordances[nm[0]][int(v[3])]) for v in transformer.get_feature_names()])\n",
    "        else:\n",
    "            coef_names.extend(transformer.get_feature_names())"
   ]
  },
  {
   "cell_type": "code",
   "execution_count": 154,
   "metadata": {},
   "outputs": [
    {
     "data": {
      "text/html": [
       "<div>\n",
       "<style scoped>\n",
       "    .dataframe tbody tr th:only-of-type {\n",
       "        vertical-align: middle;\n",
       "    }\n",
       "\n",
       "    .dataframe tbody tr th {\n",
       "        vertical-align: top;\n",
       "    }\n",
       "\n",
       "    .dataframe thead th {\n",
       "        text-align: right;\n",
       "    }\n",
       "</style>\n",
       "<table border=\"1\" class=\"dataframe\">\n",
       "  <thead>\n",
       "    <tr style=\"text-align: right;\">\n",
       "      <th></th>\n",
       "      <th>names</th>\n",
       "      <th>coefficient</th>\n",
       "    </tr>\n",
       "  </thead>\n",
       "  <tbody>\n",
       "    <tr>\n",
       "      <th>4</th>\n",
       "      <td>income_to_med_income</td>\n",
       "      <td>-1.27</td>\n",
       "    </tr>\n",
       "    <tr>\n",
       "      <th>3</th>\n",
       "      <td>income_to_loan</td>\n",
       "      <td>-1.06</td>\n",
       "    </tr>\n",
       "    <tr>\n",
       "      <th>17</th>\n",
       "      <td>loan_purpose_Home improvement</td>\n",
       "      <td>-0.52</td>\n",
       "    </tr>\n",
       "    <tr>\n",
       "      <th>18</th>\n",
       "      <td>loan_purpose_Refinancing</td>\n",
       "      <td>-0.50</td>\n",
       "    </tr>\n",
       "    <tr>\n",
       "      <th>11</th>\n",
       "      <td>applicant_race_1_Black or African American</td>\n",
       "      <td>-0.46</td>\n",
       "    </tr>\n",
       "    <tr>\n",
       "      <th>5</th>\n",
       "      <td>applicant_ethnicity_Hispanic or Latino</td>\n",
       "      <td>-0.46</td>\n",
       "    </tr>\n",
       "    <tr>\n",
       "      <th>9</th>\n",
       "      <td>applicant_race_1_American Indian or Alaska Native</td>\n",
       "      <td>-0.45</td>\n",
       "    </tr>\n",
       "    <tr>\n",
       "      <th>12</th>\n",
       "      <td>applicant_race_1_Native Hawaiian or Other Paci...</td>\n",
       "      <td>-0.27</td>\n",
       "    </tr>\n",
       "    <tr>\n",
       "      <th>7</th>\n",
       "      <td>applicant_ethnicity_Information not provided b...</td>\n",
       "      <td>-0.18</td>\n",
       "    </tr>\n",
       "    <tr>\n",
       "      <th>14</th>\n",
       "      <td>applicant_race_1_Information not provided by a...</td>\n",
       "      <td>-0.11</td>\n",
       "    </tr>\n",
       "    <tr>\n",
       "      <th>2</th>\n",
       "      <td>minority_population</td>\n",
       "      <td>-0.10</td>\n",
       "    </tr>\n",
       "    <tr>\n",
       "      <th>10</th>\n",
       "      <td>applicant_race_1_Asian</td>\n",
       "      <td>-0.05</td>\n",
       "    </tr>\n",
       "    <tr>\n",
       "      <th>0</th>\n",
       "      <td>population</td>\n",
       "      <td>0.04</td>\n",
       "    </tr>\n",
       "    <tr>\n",
       "      <th>6</th>\n",
       "      <td>applicant_ethnicity_Not Hispanic or Latino</td>\n",
       "      <td>0.06</td>\n",
       "    </tr>\n",
       "    <tr>\n",
       "      <th>8</th>\n",
       "      <td>applicant_ethnicity_Not applicable</td>\n",
       "      <td>0.11</td>\n",
       "    </tr>\n",
       "    <tr>\n",
       "      <th>13</th>\n",
       "      <td>applicant_race_1_White</td>\n",
       "      <td>0.17</td>\n",
       "    </tr>\n",
       "    <tr>\n",
       "      <th>16</th>\n",
       "      <td>loan_purpose_Home purchase</td>\n",
       "      <td>0.54</td>\n",
       "    </tr>\n",
       "    <tr>\n",
       "      <th>15</th>\n",
       "      <td>applicant_race_1_NA</td>\n",
       "      <td>0.69</td>\n",
       "    </tr>\n",
       "    <tr>\n",
       "      <th>1</th>\n",
       "      <td>applicant_income_000s</td>\n",
       "      <td>1.12</td>\n",
       "    </tr>\n",
       "  </tbody>\n",
       "</table>\n",
       "</div>"
      ],
      "text/plain": [
       "                                                names  coefficient\n",
       "4                                income_to_med_income        -1.27\n",
       "3                                      income_to_loan        -1.06\n",
       "17                      loan_purpose_Home improvement        -0.52\n",
       "18                           loan_purpose_Refinancing        -0.50\n",
       "11         applicant_race_1_Black or African American        -0.46\n",
       "5              applicant_ethnicity_Hispanic or Latino        -0.46\n",
       "9   applicant_race_1_American Indian or Alaska Native        -0.45\n",
       "12  applicant_race_1_Native Hawaiian or Other Paci...        -0.27\n",
       "7   applicant_ethnicity_Information not provided b...        -0.18\n",
       "14  applicant_race_1_Information not provided by a...        -0.11\n",
       "2                                 minority_population        -0.10\n",
       "10                             applicant_race_1_Asian        -0.05\n",
       "0                                          population         0.04\n",
       "6          applicant_ethnicity_Not Hispanic or Latino         0.06\n",
       "8                  applicant_ethnicity_Not applicable         0.11\n",
       "13                             applicant_race_1_White         0.17\n",
       "16                         loan_purpose_Home purchase         0.54\n",
       "15                                applicant_race_1_NA         0.69\n",
       "1                               applicant_income_000s         1.12"
      ]
     },
     "execution_count": 154,
     "metadata": {},
     "output_type": "execute_result"
    }
   ],
   "source": [
    "pd.DataFrame({'names':coef_names, 'coefficient':pipe_logit.named_steps['logisticregression'].coef_.ravel()}).sort_values('coefficient').round(2)"
   ]
  },
  {
   "cell_type": "code",
   "execution_count": 51,
   "metadata": {},
   "outputs": [
    {
     "data": {
      "text/plain": [
       "array([-2.00460545])"
      ]
     },
     "execution_count": 51,
     "metadata": {},
     "output_type": "execute_result"
    }
   ],
   "source": [
    "pipe_logit.named_steps['logisticregression'].intercept_"
   ]
  },
  {
   "cell_type": "markdown",
   "metadata": {},
   "source": [
    "I'm surprised we wound up with a negative intercept, given that approvals are more common than rejections. Several of the coefficients look intuitively wrong, too. The Income_to_loan and income to median income ratios, for example, both have significant negative effects. There may be too much collinearity between the three income-related features. Race and Ethnicity, on the other hand, are now more or less what I would expect.\n",
    "\n",
    "Let's check the confusion matrix for this one."
   ]
  },
  {
   "cell_type": "code",
   "execution_count": 53,
   "metadata": {},
   "outputs": [
    {
     "name": "stderr",
     "output_type": "stream",
     "text": [
      "/home/cnaylor/env/tensorflow/lib/python3.6/site-packages/sklearn/preprocessing/_function_transformer.py:98: FutureWarning: The default validate=True will be replaced by validate=False in 0.22.\n",
      "  \"validate=False in 0.22.\", FutureWarning)\n",
      "/home/cnaylor/env/tensorflow/lib/python3.6/site-packages/sklearn/preprocessing/_function_transformer.py:98: FutureWarning: The default validate=True will be replaced by validate=False in 0.22.\n",
      "  \"validate=False in 0.22.\", FutureWarning)\n",
      "/home/cnaylor/env/tensorflow/lib/python3.6/site-packages/sklearn/preprocessing/_function_transformer.py:98: FutureWarning: The default validate=True will be replaced by validate=False in 0.22.\n",
      "  \"validate=False in 0.22.\", FutureWarning)\n",
      "/home/cnaylor/env/tensorflow/lib/python3.6/site-packages/sklearn/preprocessing/_function_transformer.py:98: FutureWarning: The default validate=True will be replaced by validate=False in 0.22.\n",
      "  \"validate=False in 0.22.\", FutureWarning)\n"
     ]
    },
    {
     "data": {
      "text/plain": [
       "array([[ 4091, 23013],\n",
       "       [ 2729, 70167]])"
      ]
     },
     "execution_count": 53,
     "metadata": {},
     "output_type": "execute_result"
    }
   ],
   "source": [
    "logit_hat = pipe_logit.predict(hmda_test.iloc[:100000,:])\n",
    "confusion_matrix(hmda_test.approved.astype(\"float\").iloc[:100000], logit_hat)"
   ]
  },
  {
   "cell_type": "markdown",
   "metadata": {},
   "source": [
    "That's better, but now we are erring on the side of false positives.\n",
    "\n",
    "Let's simplify the features we're examining to see if it makes much difference."
   ]
  },
  {
   "cell_type": "code",
   "execution_count": 66,
   "metadata": {},
   "outputs": [
    {
     "name": "stderr",
     "output_type": "stream",
     "text": [
      "/home/cnaylor/env/tensorflow/lib/python3.6/site-packages/sklearn/preprocessing/_function_transformer.py:98: FutureWarning: The default validate=True will be replaced by validate=False in 0.22.\n",
      "  \"validate=False in 0.22.\", FutureWarning)\n",
      "/home/cnaylor/env/tensorflow/lib/python3.6/site-packages/sklearn/preprocessing/_function_transformer.py:98: FutureWarning: The default validate=True will be replaced by validate=False in 0.22.\n",
      "  \"validate=False in 0.22.\", FutureWarning)\n",
      "/home/cnaylor/env/tensorflow/lib/python3.6/site-packages/sklearn/preprocessing/_encoders.py:363: FutureWarning: The handling of integer data will change in version 0.22. Currently, the categories are determined based on the range [0, max(values)], while in the future they will be determined based on the unique values.\n",
      "If you want the future behaviour and silence this warning, you can specify \"categories='auto'\".\n",
      "In case you used a LabelEncoder before this OneHotEncoder to convert the categories to integers, then you can now use the OneHotEncoder directly.\n",
      "  warnings.warn(msg, FutureWarning)\n",
      "/home/cnaylor/env/tensorflow/lib/python3.6/site-packages/sklearn/preprocessing/_encoders.py:363: FutureWarning: The handling of integer data will change in version 0.22. Currently, the categories are determined based on the range [0, max(values)], while in the future they will be determined based on the unique values.\n",
      "If you want the future behaviour and silence this warning, you can specify \"categories='auto'\".\n",
      "In case you used a LabelEncoder before this OneHotEncoder to convert the categories to integers, then you can now use the OneHotEncoder directly.\n",
      "  warnings.warn(msg, FutureWarning)\n",
      "/home/cnaylor/env/tensorflow/lib/python3.6/site-packages/sklearn/preprocessing/_encoders.py:363: FutureWarning: The handling of integer data will change in version 0.22. Currently, the categories are determined based on the range [0, max(values)], while in the future they will be determined based on the unique values.\n",
      "If you want the future behaviour and silence this warning, you can specify \"categories='auto'\".\n",
      "In case you used a LabelEncoder before this OneHotEncoder to convert the categories to integers, then you can now use the OneHotEncoder directly.\n",
      "  warnings.warn(msg, FutureWarning)\n",
      "/home/cnaylor/env/tensorflow/lib/python3.6/site-packages/sklearn/preprocessing/_function_transformer.py:98: FutureWarning: The default validate=True will be replaced by validate=False in 0.22.\n",
      "  \"validate=False in 0.22.\", FutureWarning)\n",
      "/home/cnaylor/env/tensorflow/lib/python3.6/site-packages/sklearn/preprocessing/_function_transformer.py:98: FutureWarning: The default validate=True will be replaced by validate=False in 0.22.\n",
      "  \"validate=False in 0.22.\", FutureWarning)\n",
      "/home/cnaylor/env/tensorflow/lib/python3.6/site-packages/sklearn/linear_model/sag.py:334: ConvergenceWarning: The max_iter was reached which means the coef_ did not converge\n",
      "  \"the coef_ did not converge\", ConvergenceWarning)\n"
     ]
    },
    {
     "data": {
      "text/plain": [
       "Pipeline(memory=None,\n",
       "     steps=[('dataframemapper', DataFrameMapper(default=False, df_out=False,\n",
       "        features=[(['population'], FunctionTransformer(accept_sparse=False, check_inverse=True,\n",
       "          func=<ufunc 'log'>, inv_kw_args=None, inverse_func=None,\n",
       "          kw_args=None, pass_y='deprecated', validate=None)), (['... penalty='l2', random_state=None, solver='sag',\n",
       "          tol=0.0001, verbose=0, warm_start=False))])"
      ]
     },
     "execution_count": 66,
     "metadata": {},
     "output_type": "execute_result"
    }
   ],
   "source": [
    "mapper = DataFrameMapper([\n",
    "    (['population'], Log),\n",
    "    (['applicant_income_000s'], Log),\n",
    "    (['minority_population'], Binarizer(threshold=0.5)), #we know from graphing the data that there are relatively few mixed neighborhoods\n",
    "    (['applicant_ethnicity'], OneHotEncoder()),\n",
    "    (['applicant_race_1'], OneHotEncoder()),\n",
    "    (['loan_purpose'], OneHotEncoder())\n",
    "     ])\n",
    "pipe_logit2 = make_pipeline(mapper, LogisticRegression(solver=\"sag\")) #the SAG solver is supposed to be faster for large datasets. I believe the factors are approximately scaled as-is.\n",
    "pipe_logit2.fit(hmda_train, hmda_train.approved)"
   ]
  },
  {
   "cell_type": "code",
   "execution_count": 151,
   "metadata": {},
   "outputs": [
    {
     "data": {
      "text/html": [
       "<div>\n",
       "<style scoped>\n",
       "    .dataframe tbody tr th:only-of-type {\n",
       "        vertical-align: middle;\n",
       "    }\n",
       "\n",
       "    .dataframe tbody tr th {\n",
       "        vertical-align: top;\n",
       "    }\n",
       "\n",
       "    .dataframe thead th {\n",
       "        text-align: right;\n",
       "    }\n",
       "</style>\n",
       "<table border=\"1\" class=\"dataframe\">\n",
       "  <thead>\n",
       "    <tr style=\"text-align: right;\">\n",
       "      <th></th>\n",
       "      <th>names</th>\n",
       "      <th>coefficient</th>\n",
       "    </tr>\n",
       "  </thead>\n",
       "  <tbody>\n",
       "    <tr>\n",
       "      <th>9</th>\n",
       "      <td>applicant_race_1_Black or African American</td>\n",
       "      <td>-0.52</td>\n",
       "    </tr>\n",
       "    <tr>\n",
       "      <th>3</th>\n",
       "      <td>applicant_ethnicity_Hispanic or Latino</td>\n",
       "      <td>-0.51</td>\n",
       "    </tr>\n",
       "    <tr>\n",
       "      <th>16</th>\n",
       "      <td>loan_purpose_Refinancing</td>\n",
       "      <td>-0.47</td>\n",
       "    </tr>\n",
       "    <tr>\n",
       "      <th>15</th>\n",
       "      <td>loan_purpose_Home improvement</td>\n",
       "      <td>-0.44</td>\n",
       "    </tr>\n",
       "    <tr>\n",
       "      <th>7</th>\n",
       "      <td>applicant_race_1_American Indian or Alaska Native</td>\n",
       "      <td>-0.41</td>\n",
       "    </tr>\n",
       "    <tr>\n",
       "      <th>10</th>\n",
       "      <td>applicant_race_1_Native Hawaiian or Other Paci...</td>\n",
       "      <td>-0.28</td>\n",
       "    </tr>\n",
       "    <tr>\n",
       "      <th>5</th>\n",
       "      <td>applicant_ethnicity_Information not provided b...</td>\n",
       "      <td>-0.16</td>\n",
       "    </tr>\n",
       "    <tr>\n",
       "      <th>8</th>\n",
       "      <td>applicant_race_1_Asian</td>\n",
       "      <td>-0.12</td>\n",
       "    </tr>\n",
       "    <tr>\n",
       "      <th>12</th>\n",
       "      <td>applicant_race_1_Information not provided by a...</td>\n",
       "      <td>-0.07</td>\n",
       "    </tr>\n",
       "    <tr>\n",
       "      <th>2</th>\n",
       "      <td>minority_population</td>\n",
       "      <td>0.01</td>\n",
       "    </tr>\n",
       "    <tr>\n",
       "      <th>4</th>\n",
       "      <td>applicant_ethnicity_Not Hispanic or Latino</td>\n",
       "      <td>0.11</td>\n",
       "    </tr>\n",
       "    <tr>\n",
       "      <th>0</th>\n",
       "      <td>population</td>\n",
       "      <td>0.13</td>\n",
       "    </tr>\n",
       "    <tr>\n",
       "      <th>6</th>\n",
       "      <td>applicant_ethnicity_Not applicable</td>\n",
       "      <td>0.16</td>\n",
       "    </tr>\n",
       "    <tr>\n",
       "      <th>11</th>\n",
       "      <td>applicant_race_1_White</td>\n",
       "      <td>0.28</td>\n",
       "    </tr>\n",
       "    <tr>\n",
       "      <th>1</th>\n",
       "      <td>applicant_income_000s</td>\n",
       "      <td>0.39</td>\n",
       "    </tr>\n",
       "    <tr>\n",
       "      <th>14</th>\n",
       "      <td>loan_purpose_Home purchase</td>\n",
       "      <td>0.51</td>\n",
       "    </tr>\n",
       "    <tr>\n",
       "      <th>13</th>\n",
       "      <td>applicant_race_1_NA</td>\n",
       "      <td>0.71</td>\n",
       "    </tr>\n",
       "  </tbody>\n",
       "</table>\n",
       "</div>"
      ],
      "text/plain": [
       "                                                names  coefficient\n",
       "9          applicant_race_1_Black or African American        -0.52\n",
       "3              applicant_ethnicity_Hispanic or Latino        -0.51\n",
       "16                           loan_purpose_Refinancing        -0.47\n",
       "15                      loan_purpose_Home improvement        -0.44\n",
       "7   applicant_race_1_American Indian or Alaska Native        -0.41\n",
       "10  applicant_race_1_Native Hawaiian or Other Paci...        -0.28\n",
       "5   applicant_ethnicity_Information not provided b...        -0.16\n",
       "8                              applicant_race_1_Asian        -0.12\n",
       "12  applicant_race_1_Information not provided by a...        -0.07\n",
       "2                                 minority_population         0.01\n",
       "4          applicant_ethnicity_Not Hispanic or Latino         0.11\n",
       "0                                          population         0.13\n",
       "6                  applicant_ethnicity_Not applicable         0.16\n",
       "11                             applicant_race_1_White         0.28\n",
       "1                               applicant_income_000s         0.39\n",
       "14                         loan_purpose_Home purchase         0.51\n",
       "13                                applicant_race_1_NA         0.71"
      ]
     },
     "execution_count": 151,
     "metadata": {},
     "output_type": "execute_result"
    }
   ],
   "source": [
    "coef_names = []\n",
    "for (nm, transformer) in pipe_logit2.named_steps['dataframemapper'].features:\n",
    "    if isinstance(transformer, (FunctionTransformer, Binarizer)):\n",
    "        coef_names.extend([f\"{nm[0]}\"])\n",
    "    elif isinstance(transformer, OneHotEncoder):\n",
    "        if nm[0] in concordances:\n",
    "            coef_names.extend([\"{}_{}\".format(nm[0],concordances[nm[0]][int(v[3])]) for v in transformer.get_feature_names()])\n",
    "        else:\n",
    "            coef_names.extend(transformer.get_feature_names())\n",
    "pd.DataFrame({'names':coef_names, 'coefficient':pipe_logit2.named_steps['logisticregression'].coef_.ravel()}).sort_values('coefficient').round(2)"
   ]
  },
  {
   "cell_type": "code",
   "execution_count": 143,
   "metadata": {},
   "outputs": [
    {
     "name": "stderr",
     "output_type": "stream",
     "text": [
      "/home/cnaylor/env/tensorflow/lib/python3.6/site-packages/sklearn/preprocessing/_function_transformer.py:98: FutureWarning: The default validate=True will be replaced by validate=False in 0.22.\n",
      "  \"validate=False in 0.22.\", FutureWarning)\n",
      "/home/cnaylor/env/tensorflow/lib/python3.6/site-packages/sklearn/preprocessing/_function_transformer.py:98: FutureWarning: The default validate=True will be replaced by validate=False in 0.22.\n",
      "  \"validate=False in 0.22.\", FutureWarning)\n"
     ]
    },
    {
     "data": {
      "text/plain": [
       "array([[ 2449, 24655],\n",
       "       [ 1830, 71066]])"
      ]
     },
     "execution_count": 143,
     "metadata": {},
     "output_type": "execute_result"
    }
   ],
   "source": [
    "logit_hat = pipe_logit2.predict(hmda_test.iloc[:100000,:])\n",
    "confusion_matrix(hmda_test.approved.astype(\"float\").iloc[:100000], logit_hat)"
   ]
  },
  {
   "cell_type": "markdown",
   "metadata": {},
   "source": [
    "The simpler model is not much less accurate."
   ]
  },
  {
   "cell_type": "markdown",
   "metadata": {},
   "source": [
    "# Conclusions\n",
    "\n",
    "In the final model, we have extracted some basic features for loan approval, mostly squaring with our prior assumptions:\n",
    "\n",
    "* **White, non-Hispanic** applicants were approved more frequently than other races. \n",
    "* **Home purchase** loans are more likely to be approved than Home improvement or refinancing loans, both of which are taking equity out of a house, and hence inherently more risky. \n",
    "* **Wealthier** applicants were more likely to get their loans approved. \n",
    "\n",
    "We also had some surprises: \n",
    "\n",
    "* Being **Asian had a negative impact** on mortgage approval. One might guess that Asian applicants' numbers were skewed by foreign purchases of NY real estate, but further study is needed.\n",
    "* The ratio of the applicant's **income to the size of the loan was not relevant**.  The income-to-loan ratio's irrelevance might be due to survival bias; we filtered out incomplete applications, and possibly those applicants with a large imbalance in loan to income and no other mitigating factors didn't get far enough in the process to show up in the data.\n",
    "\n",
    "\n",
    "There is a great deal more work to be done here. If we could find additional data on these loans, probably the single most important feature currently missing would be the percent down payment being made on each mortgage. The spread of the proposed interest rate over some average would also be informative.\n",
    "\n",
    "It might also make sense to concentrate in commonalities in loan rejections, as they are less frequent. We could flip the encoding of loan approval to be loan rejection, then fit a zero-inflated poisson model.\n",
    "\n",
    "We could also use the census tract data to break the applications into regions of NY State, then fit a hierarchical model permitting some different effects depending on region. That would take some work to determine how to aggregate the census tracts, however, as a model with one group for each would be ungainly."
   ]
  }
 ],
 "metadata": {
  "kernelspec": {
   "display_name": "Python 3",
   "language": "python",
   "name": "python3"
  },
  "language_info": {
   "codemirror_mode": {
    "name": "ipython",
    "version": 3
   },
   "file_extension": ".py",
   "mimetype": "text/x-python",
   "name": "python",
   "nbconvert_exporter": "python",
   "pygments_lexer": "ipython3",
   "version": "3.6.6"
  }
 },
 "nbformat": 4,
 "nbformat_minor": 2
}
