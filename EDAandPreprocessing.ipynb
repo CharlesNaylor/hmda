{
 "cells": [
  {
   "cell_type": "markdown",
   "metadata": {},
   "source": [
    "# HMDA Data Analysis\n",
    "\n",
    "> The Home Mortgage Disclosure Act (HMDA) requires mortgage lenders in the United States to disclose information about the mortgage lending decisions they have made. Specifically, it requires that each lender report on all of the official mortgage applications they have received and whether or not the application was accepted or denied. This dataset provides a rich problem for data analysis and data science and is publicly available through their API. We would like you to build a classifier that predicts from the disclosed attributes of the mortgage applications whether or not the application will be approved. We are less concerned about the final accuracy of the classifier and more about the process and framework you use to get there. Please prepare a brief presentation in which you walk us through your process, results, and discoveries along the way. We hope to see the code used to explore and analyze the data. \n",
    "\n",
    "> The HMDA dataset is large, feel free to select a specific cut of the data for model development, for example a specific geography or a specific type of mortgage. The dataset can be downloaded here: https://www.consumerfinance.gov/data-research/hmda/"
   ]
  },
  {
   "cell_type": "code",
   "execution_count": 133,
   "metadata": {},
   "outputs": [],
   "source": [
    "import pandas as pd\n",
    "import seaborn as sns\n",
    "import numpy as np\n",
    "import os"
   ]
  },
  {
   "cell_type": "code",
   "execution_count": 2,
   "metadata": {},
   "outputs": [
    {
     "name": "stdout",
     "output_type": "stream",
     "text": [
      "Populating the interactive namespace from numpy and matplotlib\n"
     ]
    }
   ],
   "source": [
    "%pylab inline"
   ]
  },
  {
   "cell_type": "markdown",
   "metadata": {},
   "source": [
    "## Preprocessing\n",
    "\n",
    "The HMDA website says they have something on the order of 10-20 million records each year. Assuming a mean of < 2 mortgage applications per accepted mortgage, that's a surprisingly high turnover for mortgages in this country. This is clearly going to be a multi-gigabyte dataset. I'd like to get a full business cycle in there, so we'll limit records to owner occupancy single-family homes in NY State, but get the full dataset since 2007."
   ]
  },
  {
   "cell_type": "code",
   "execution_count": 3,
   "metadata": {},
   "outputs": [
    {
     "name": "stderr",
     "output_type": "stream",
     "text": [
      "/home/cnaylor/env/tensorflow/lib/python3.6/site-packages/IPython/core/interactiveshell.py:2785: DtypeWarning: Columns (15,16,17,32,33,34,38,56) have mixed types. Specify dtype option on import or set low_memory=False.\n",
      "  interactivity=interactivity, compiler=compiler, result=result)\n"
     ]
    },
    {
     "data": {
      "text/plain": [
       "(4281178, 78)"
      ]
     },
     "execution_count": 3,
     "metadata": {},
     "output_type": "execute_result"
    }
   ],
   "source": [
    "# We're going to have to download the file ahead of time. It's about 1.5GB so we don't want to have to fetch it from a cold start every time we run this notebook.\n",
    "if not 'rawdata.pqt' in os.listdir():\n",
    "    url = \"https://api.consumerfinance.gov:443/data/hmda/slice/hmda_lar.csv?$where=state_code%3D36+AND+property_type+IN+(1%2C2)+AND+owner_occupancy%3D1+AND+lien_status%3D1&$limit=0&$offset=0\"\n",
    "    rawdata = pd.read_csv(url)\n",
    "    rawdata.to_parquet(\"rawdata.pqt\")\n",
    "else:\n",
    "    rawdata = pd.read_parquet(\"rawdata.pqt\")\n",
    "rawdata.shape"
   ]
  },
  {
   "cell_type": "markdown",
   "metadata": {},
   "source": [
    "77 features is far too many to graph. Let's get an idea of how many are actually used."
   ]
  },
  {
   "cell_type": "code",
   "execution_count": 4,
   "metadata": {},
   "outputs": [
    {
     "data": {
      "text/plain": [
       "53"
      ]
     },
     "execution_count": 4,
     "metadata": {},
     "output_type": "execute_result"
    }
   ],
   "source": [
    "completeness = rawdata.notnull().sum(axis=0)\n",
    "len(completeness.where(completeness>rawdata.shape[0]/2).dropna())"
   ]
  },
  {
   "cell_type": "markdown",
   "metadata": {},
   "source": [
    "Ok, a bit more than half have data more than 50% of the time. Since our motivation is to predict the approval likelihood of new mortgages, we'll drop the rest as not worth modeling."
   ]
  },
  {
   "cell_type": "code",
   "execution_count": 5,
   "metadata": {},
   "outputs": [],
   "source": [
    "rawdata = rawdata.loc[:,completeness.where(completeness>rawdata.shape[0]/2).dropna().index]"
   ]
  },
  {
   "cell_type": "markdown",
   "metadata": {},
   "source": [
    "That's still too much to look at, though. What about redundancies?"
   ]
  },
  {
   "cell_type": "code",
   "execution_count": 6,
   "metadata": {},
   "outputs": [
    {
     "data": {
      "text/plain": [
       "action_taken                                                                      3\n",
       "action_taken_name                       Application denied by financial institution\n",
       "agency_code                                                                       7\n",
       "agency_abbr                                                                     HUD\n",
       "agency_name                             Department of Housing and Urban Development\n",
       "applicant_ethnicity                                                               2\n",
       "applicant_ethnicity_name                                     Not Hispanic or Latino\n",
       "applicant_income_000s                                                            31\n",
       "applicant_race_1                                                                  5\n",
       "applicant_race_name_1                                                         White\n",
       "applicant_sex                                                                     2\n",
       "applicant_sex_name                                                           Female\n",
       "application_date_indicator                                                        0\n",
       "as_of_year                                                                     2008\n",
       "census_tract_number                                                             NaN\n",
       "co_applicant_ethnicity                                                            5\n",
       "co_applicant_ethnicity_name                                         No co-applicant\n",
       "co_applicant_race_1                                                               8\n",
       "co_applicant_race_name_1                                            No co-applicant\n",
       "co_applicant_sex                                                                  5\n",
       "co_applicant_sex_name                                               No co-applicant\n",
       "county_code                                                                     NaN\n",
       "county_name                                                                     NaN\n",
       "hoepa_status                                                                      2\n",
       "hoepa_status_name                                                  Not a HOEPA loan\n",
       "lien_status                                                                       1\n",
       "lien_status_name                                            Secured by a first lien\n",
       "loan_purpose                                                                      1\n",
       "loan_purpose_name                                                     Home purchase\n",
       "loan_type                                                                         1\n",
       "loan_type_name                                                         Conventional\n",
       "msamd                                                                           NaN\n",
       "msamd_name                                                                      NaN\n",
       "owner_occupancy                                                                   1\n",
       "owner_occupancy_name                         Owner-occupied as a principal dwelling\n",
       "preapproval                                                                       3\n",
       "preapproval_name                                                     Not applicable\n",
       "property_type                                                                     1\n",
       "property_type_name                One-to-four family dwelling (other than manufa...\n",
       "purchaser_type                                                                    0\n",
       "purchaser_type_name               Loan was not originated or was not sold in cal...\n",
       "respondent_id                                                            7071400009\n",
       "sequence_number                                                                4109\n",
       "state_code                                                                       36\n",
       "state_abbr                                                                       NY\n",
       "state_name                                                                 New York\n",
       "hud_median_family_income                                                        NaN\n",
       "loan_amount_000s                                                                 26\n",
       "number_of_1_to_4_family_units                                                   NaN\n",
       "number_of_owner_occupied_units                                                  NaN\n",
       "minority_population                                                             NaN\n",
       "population                                                                      NaN\n",
       "tract_to_msamd_income                                                           NaN\n",
       "Name: 0, dtype: object"
      ]
     },
     "execution_count": 6,
     "metadata": {},
     "output_type": "execute_result"
    }
   ],
   "source": [
    "rawdata.iloc[0,:]"
   ]
  },
  {
   "cell_type": "markdown",
   "metadata": {},
   "source": [
    "Quite a few. Build out concordances for the dual index-string fields."
   ]
  },
  {
   "cell_type": "code",
   "execution_count": 7,
   "metadata": {},
   "outputs": [
    {
     "data": {
      "text/plain": [
       "{'action_taken': {3: 'Application denied by financial institution',\n",
       "  1: 'Loan originated',\n",
       "  5: 'File closed for incompleteness',\n",
       "  2: 'Application approved but not accepted',\n",
       "  4: 'Application withdrawn by applicant',\n",
       "  7: 'Preapproval request denied by financial institution',\n",
       "  8: 'Preapproval request approved but not accepted'},\n",
       " 'applicant_ethnicity': {2: 'Not Hispanic or Latino',\n",
       "  3: 'Information not provided by applicant in mail, Internet, or telephone application',\n",
       "  1: 'Hispanic or Latino',\n",
       "  4: 'Not applicable'},\n",
       " 'applicant_sex': {2: 'Female',\n",
       "  1: 'Male',\n",
       "  3: 'Information not provided by applicant in mail, Internet, or telephone application',\n",
       "  4: 'Not applicable'},\n",
       " 'co_applicant_ethnicity': {5: 'No co-applicant',\n",
       "  2: 'Not Hispanic or Latino',\n",
       "  3: 'Information not provided by applicant in mail, Internet, or telephone application',\n",
       "  1: 'Hispanic or Latino',\n",
       "  4: 'Not applicable'},\n",
       " 'co_applicant_sex': {5: 'No co-applicant',\n",
       "  2: 'Female',\n",
       "  1: 'Male',\n",
       "  3: 'Information not provided by applicant in mail, Internet, or telephone application',\n",
       "  4: 'Not applicable'},\n",
       " 'hoepa_status': {2: 'Not a HOEPA loan'},\n",
       " 'lien_status': {1: 'Secured by a first lien'},\n",
       " 'loan_purpose': {1: 'Home purchase', 3: 'Refinancing', 2: 'Home improvement'},\n",
       " 'loan_type': {1: 'Conventional',\n",
       "  2: 'FHA-insured',\n",
       "  3: 'VA-guaranteed',\n",
       "  4: 'FSA/RHS-guaranteed'},\n",
       " 'msamd': {nan: nan, 10580.0: 'Albany, Schenectady, Troy - NY'},\n",
       " 'owner_occupancy': {1: 'Owner-occupied as a principal dwelling'},\n",
       " 'preapproval': {3: 'Not applicable',\n",
       "  1: 'Preapproval was requested',\n",
       "  2: 'Preapproval was not requested'},\n",
       " 'property_type': {1: 'One-to-four family dwelling (other than manufactured housing)',\n",
       "  2: 'Manufactured housing'},\n",
       " 'purchaser_type': {0: 'Loan was not originated or was not sold in calendar year covered by register',\n",
       "  6: 'Commercial bank, savings bank or savings association',\n",
       "  9: 'Other type of purchaser',\n",
       "  7: 'Life insurance company, credit union, mortgage bank, or finance company',\n",
       "  8: 'Affiliate institution',\n",
       "  2: 'Ginnie Mae (GNMA)',\n",
       "  5: 'Private securitization',\n",
       "  1: 'Fannie Mae (FNMA)',\n",
       "  3: 'Freddie Mac (FHLMC)'}}"
      ]
     },
     "execution_count": 7,
     "metadata": {},
     "output_type": "execute_result"
    }
   ],
   "source": [
    "concordances = {v:dict(rawdata[[v, v+'_name']].head(10000).drop_duplicates().values) for\n",
    "                v in [v for v in rawdata.columns if v+'_name' in rawdata.columns]}\n",
    "\n",
    "concordances"
   ]
  },
  {
   "cell_type": "markdown",
   "metadata": {},
   "source": [
    "Now we can drop the names. Note the msamd tells us we didn't get NYC data for some reason."
   ]
  },
  {
   "cell_type": "code",
   "execution_count": 8,
   "metadata": {},
   "outputs": [
    {
     "data": {
      "text/plain": [
       "(4281178, 39)"
      ]
     },
     "execution_count": 8,
     "metadata": {},
     "output_type": "execute_result"
    }
   ],
   "source": [
    "rawdata.drop([k+'_name' for k in concordances], axis=1, inplace=True)\n",
    "rawdata.shape"
   ]
  },
  {
   "cell_type": "code",
   "execution_count": 93,
   "metadata": {},
   "outputs": [
    {
     "data": {
      "text/plain": [
       "(3584858, 31)"
      ]
     },
     "execution_count": 93,
     "metadata": {},
     "output_type": "execute_result"
    }
   ],
   "source": [
    "non_conform = ['applicant_race', 'co_applicant_race']\n",
    "for v in non_conform:\n",
    "    concordances[v+'_1'] = dict(rawdata[[v+'_1', v+'_name_1']].head(10000).drop_duplicates().values)\n",
    "    rawdata.drop(v+'_name_1', axis=1, inplace=True)\n",
    "rawdata.shape"
   ]
  },
  {
   "cell_type": "markdown",
   "metadata": {},
   "source": [
    "### More removals\n",
    "\n",
    "* We can drop state info, too, since it's all NY. \n",
    "* I'm going to leave in agency abbreviation and remove the code and name. They didn't fit the pattern for the concordance.\n",
    "* sequence_number is a unique id for each respondent_id (which is the reporting institution id, and may be relevant)"
   ]
  },
  {
   "cell_type": "code",
   "execution_count": 9,
   "metadata": {},
   "outputs": [
    {
     "data": {
      "text/plain": [
       "(4281178, 33)"
      ]
     },
     "execution_count": 9,
     "metadata": {},
     "output_type": "execute_result"
    }
   ],
   "source": [
    "rawdata.drop(['state_code', 'state_abbr', 'state_name', 'agency_name', 'agency_code', 'sequence_number'], axis=1, inplace=True)\n",
    "rawdata.shape"
   ]
  },
  {
   "cell_type": "markdown",
   "metadata": {},
   "source": [
    "### Simplify Decision Codes\n",
    "\n",
    "We only care about loans that were approved or denied. We can filter out incomplete files, which will presumably be difficult to model anyway, 'Preapprovals' mean a decision was made on the customer's creditworthiness without a specific property attached. At a minimum, these should be modeled separately. For the purposes of this exercise, I'll get rid of those, too. Withdrawn applications should go, too. The remaining actions are 1,2,3, where 3 is a denial and 1 and 2 are approvals."
   ]
  },
  {
   "cell_type": "code",
   "execution_count": 10,
   "metadata": {},
   "outputs": [
    {
     "data": {
      "text/plain": [
       "(3584858, 33)"
      ]
     },
     "execution_count": 10,
     "metadata": {},
     "output_type": "execute_result"
    }
   ],
   "source": [
    "rawdata = rawdata.loc[rawdata.action_taken <= 3,:]\n",
    "rawdata.shape"
   ]
  },
  {
   "cell_type": "code",
   "execution_count": 11,
   "metadata": {},
   "outputs": [],
   "source": [
    "rawdata = rawdata.assign(approved=rawdata.action_taken < 3)\n",
    "rawdata.drop(\"action_taken\", axis=1, inplace=True)"
   ]
  },
  {
   "cell_type": "markdown",
   "metadata": {},
   "source": [
    "### Fill categorical NAs\n",
    "\n",
    "Conveniently, we can fill NAs on the categorical values with 0 since the encoding starts at 1."
   ]
  },
  {
   "cell_type": "code",
   "execution_count": 162,
   "metadata": {},
   "outputs": [],
   "source": [
    "for v in concordances:\n",
    "    if not v == 'action_taken': # we got rid of that one\n",
    "        rawdata[v].fillna(value=0, inplace=True)\n",
    "\n",
    "for v in non_conform:\n",
    "    rawdata[v+'_1'].fillna(value=0, inplace=True) #arguably we should code 'did not report race' as white."
   ]
  },
  {
   "cell_type": "code",
   "execution_count": 163,
   "metadata": {},
   "outputs": [],
   "source": [
    "rawdata.to_parquet(\"processed_data.pqt\")"
   ]
  },
  {
   "cell_type": "markdown",
   "metadata": {},
   "source": [
    "## Exploratory Data Analysis\n",
    "\n",
    "I'm going to start off modeling with an SVM to get a baseline before moving on to more directed regressions, so I'll need to look at distributions to see how to categorize continuous values. \n",
    "\n",
    "We'll also want to see what our basic prior is on approvals."
   ]
  },
  {
   "cell_type": "code",
   "execution_count": 14,
   "metadata": {},
   "outputs": [],
   "source": [
    "smpl = rawdata.sample(n=10000) #spare our processor if we wind up graphing points"
   ]
  },
  {
   "cell_type": "code",
   "execution_count": 17,
   "metadata": {},
   "outputs": [
    {
     "data": {
      "text/plain": [
       "<matplotlib.axes._subplots.AxesSubplot at 0x7ff22df93518>"
      ]
     },
     "execution_count": 17,
     "metadata": {},
     "output_type": "execute_result"
    },
    {
     "data": {
      "image/png": "[encoded data removed]",
      "text/plain": [
       "<Figure size 432x288 with 1 Axes>"
      ]
     },
     "metadata": {},
     "output_type": "display_data"
    }
   ],
   "source": [
    "sns.countplot(y=\"approved\", data=rawdata)"
   ]
  },
  {
   "cell_type": "markdown",
   "metadata": {},
   "source": [
    "There actually aren't that many continuous/high category values."
   ]
  },
  {
   "cell_type": "code",
   "execution_count": 18,
   "metadata": {},
   "outputs": [
    {
     "data": {
      "text/plain": [
       "Index(['agency_abbr', 'applicant_ethnicity', 'applicant_income_000s',\n",
       "       'applicant_race_1', 'applicant_race_name_1', 'applicant_sex',\n",
       "       'application_date_indicator', 'as_of_year', 'census_tract_number',\n",
       "       'co_applicant_ethnicity', 'co_applicant_race_1',\n",
       "       'co_applicant_race_name_1', 'co_applicant_sex', 'county_code',\n",
       "       'county_name', 'hoepa_status', 'lien_status', 'loan_purpose',\n",
       "       'loan_type', 'msamd', 'owner_occupancy', 'preapproval', 'property_type',\n",
       "       'purchaser_type', 'respondent_id', 'hud_median_family_income',\n",
       "       'loan_amount_000s', 'number_of_1_to_4_family_units',\n",
       "       'number_of_owner_occupied_units', 'minority_population', 'population',\n",
       "       'tract_to_msamd_income', 'approved'],\n",
       "      dtype='object')"
      ]
     },
     "execution_count": 18,
     "metadata": {},
     "output_type": "execute_result"
    }
   ],
   "source": [
    "smpl.columns"
   ]
  },
  {
   "cell_type": "code",
   "execution_count": 157,
   "metadata": {},
   "outputs": [
    {
     "data": {
      "text/plain": [
       "7"
      ]
     },
     "execution_count": 157,
     "metadata": {},
     "output_type": "execute_result"
    }
   ],
   "source": [
    "lots_of_values = ['population', 'minority_population', 'applicant_income_000s', 'hud_median_family_income', \n",
    "                  'census_tract_number', 'tract_to_msamd_income', 'loan_amount_000s']\n",
    "len(lots_of_values)"
   ]
  },
  {
   "cell_type": "code",
   "execution_count": 160,
   "metadata": {},
   "outputs": [
    {
     "name": "stderr",
     "output_type": "stream",
     "text": [
      "/home/cnaylor/env/tensorflow/lib/python3.6/site-packages/scipy/stats/stats.py:1713: FutureWarning: Using a non-tuple sequence for multidimensional indexing is deprecated; use `arr[tuple(seq)]` instead of `arr[seq]`. In the future this will be interpreted as an array index, `arr[np.array(seq)]`, which will result either in an error or a different result.\n",
      "  return np.add.reduce(sorted[indexer] * weights, axis=axis) / sumval\n"
     ]
    },
    {
     "data": {
      "image/png": "[encoded data removed]",
      "text/plain": [
       "<Figure size 1008x432 with 8 Axes>"
      ]
     },
     "metadata": {},
     "output_type": "display_data"
    }
   ],
   "source": [
    "f, axes = plt.subplots(2,4, figsize=(14,6))\n",
    "for i, v in enumerate(lots_of_values):\n",
    "    sns.distplot(smpl[v].dropna(), ax=axes[i % 2, i // 2])"
   ]
  },
  {
   "cell_type": "markdown",
   "metadata": {},
   "source": [
    "A lot of long tails in this data. And the peaks in `minority_population` show the enduring impact of red-lining.\n",
    "\n",
    "Someone with an income of 10,000,000 applied for a mortgage? I'm kind of curious how much it was for."
   ]
  },
  {
   "cell_type": "code",
   "execution_count": 50,
   "metadata": {},
   "outputs": [
    {
     "data": {
      "text/html": [
       "<div>\n",
       "<style scoped>\n",
       "    .dataframe tbody tr th:only-of-type {\n",
       "        vertical-align: middle;\n",
       "    }\n",
       "\n",
       "    .dataframe tbody tr th {\n",
       "        vertical-align: top;\n",
       "    }\n",
       "\n",
       "    .dataframe thead th {\n",
       "        text-align: right;\n",
       "    }\n",
       "</style>\n",
       "<table border=\"1\" class=\"dataframe\">\n",
       "  <thead>\n",
       "    <tr style=\"text-align: right;\">\n",
       "      <th></th>\n",
       "      <th>applicant_income_000s</th>\n",
       "      <th>loan_amount_000s</th>\n",
       "    </tr>\n",
       "  </thead>\n",
       "  <tbody>\n",
       "    <tr>\n",
       "      <th>2214445</th>\n",
       "      <td>7545.0</td>\n",
       "      <td>77</td>\n",
       "    </tr>\n",
       "    <tr>\n",
       "      <th>2000875</th>\n",
       "      <td>9999.0</td>\n",
       "      <td>1463</td>\n",
       "    </tr>\n",
       "    <tr>\n",
       "      <th>1670314</th>\n",
       "      <td>5200.0</td>\n",
       "      <td>3000</td>\n",
       "    </tr>\n",
       "    <tr>\n",
       "      <th>3607446</th>\n",
       "      <td>7800.0</td>\n",
       "      <td>710</td>\n",
       "    </tr>\n",
       "    <tr>\n",
       "      <th>1846806</th>\n",
       "      <td>9021.0</td>\n",
       "      <td>6750</td>\n",
       "    </tr>\n",
       "  </tbody>\n",
       "</table>\n",
       "</div>"
      ],
      "text/plain": [
       "         applicant_income_000s  loan_amount_000s\n",
       "2214445                 7545.0                77\n",
       "2000875                 9999.0              1463\n",
       "1670314                 5200.0              3000\n",
       "3607446                 7800.0               710\n",
       "1846806                 9021.0              6750"
      ]
     },
     "execution_count": 50,
     "metadata": {},
     "output_type": "execute_result"
    }
   ],
   "source": [
    "smpl.loc[smpl.applicant_income_000s>5000, ['applicant_income_000s', 'loan_amount_000s']]"
   ]
  },
  {
   "cell_type": "markdown",
   "metadata": {},
   "source": [
    "I'm guessing the first one is a data entry error. Who would go to the trouble?\n",
    "\n",
    "I suppose there must be a tax advantage for the others. Also note income of 9999 implies the data is censored, although I doubt there are enough people in the category to matter."
   ]
  },
  {
   "cell_type": "markdown",
   "metadata": {},
   "source": [
    "We can probably set our cutpoints just based on quantiles for these. `census_tract_number` should probably just be dropped for the SVM."
   ]
  },
  {
   "cell_type": "markdown",
   "metadata": {},
   "source": [
    "What's the relationship between race and income among mortgage applicants?"
   ]
  },
  {
   "cell_type": "code",
   "execution_count": 101,
   "metadata": {},
   "outputs": [
    {
     "name": "stderr",
     "output_type": "stream",
     "text": [
      "/home/cnaylor/env/tensorflow/lib/python3.6/site-packages/scipy/stats/stats.py:1713: FutureWarning: Using a non-tuple sequence for multidimensional indexing is deprecated; use `arr[tuple(seq)]` instead of `arr[seq]`. In the future this will be interpreted as an array index, `arr[np.array(seq)]`, which will result either in an error or a different result.\n",
      "  return np.add.reduce(sorted[indexer] * weights, axis=axis) / sumval\n"
     ]
    },
    {
     "data": {
      "image/png": "[encoded data removed]",
      "text/plain": [
       "<Figure size 432x288 with 1 Axes>"
      ]
     },
     "metadata": {},
     "output_type": "display_data"
    }
   ],
   "source": [
    "fig, ax = plt.subplots()\n",
    "ax.set(yscale=\"log\")\n",
    "g = sns.catplot(x='applicant_race_1', y='applicant_income_000s', hue='approved', kind='violin', \n",
    "            split=True, data=smpl, ax=ax)"
   ]
  },
  {
   "cell_type": "code",
   "execution_count": 99,
   "metadata": {},
   "outputs": [
    {
     "data": {
      "text/plain": [
       "{5: 'White',\n",
       " 6: 'Information not provided by applicant in mail, Internet, or telephone application',\n",
       " 3: 'Black or African American',\n",
       " 1: 'American Indian or Alaska Native',\n",
       " 2: 'Asian',\n",
       " 4: 'Native Hawaiian or Other Pacific Islander'}"
      ]
     },
     "execution_count": 99,
     "metadata": {},
     "output_type": "execute_result"
    }
   ],
   "source": [
    "concordances['applicant_race_1']"
   ]
  },
  {
   "cell_type": "markdown",
   "metadata": {},
   "source": [
    "The obvious patterns are the disproportionate approval for Asians, and disapproval for African Americans and Pacific Islanders."
   ]
  },
  {
   "cell_type": "markdown",
   "metadata": {},
   "source": [
    "Does the agency matter much?"
   ]
  },
  {
   "cell_type": "code",
   "execution_count": 179,
   "metadata": {},
   "outputs": [
    {
     "data": {
      "text/html": [
       "<div>\n",
       "<style scoped>\n",
       "    .dataframe tbody tr th:only-of-type {\n",
       "        vertical-align: middle;\n",
       "    }\n",
       "\n",
       "    .dataframe tbody tr th {\n",
       "        vertical-align: top;\n",
       "    }\n",
       "\n",
       "    .dataframe thead th {\n",
       "        text-align: right;\n",
       "    }\n",
       "</style>\n",
       "<table border=\"1\" class=\"dataframe\">\n",
       "  <thead>\n",
       "    <tr style=\"text-align: right;\">\n",
       "      <th>approved</th>\n",
       "      <th>False</th>\n",
       "      <th>True</th>\n",
       "    </tr>\n",
       "    <tr>\n",
       "      <th>agency_abbr</th>\n",
       "      <th></th>\n",
       "      <th></th>\n",
       "    </tr>\n",
       "  </thead>\n",
       "  <tbody>\n",
       "    <tr>\n",
       "      <th>CFPB</th>\n",
       "      <td>0.25</td>\n",
       "      <td>0.75</td>\n",
       "    </tr>\n",
       "    <tr>\n",
       "      <th>FDIC</th>\n",
       "      <td>0.22</td>\n",
       "      <td>0.78</td>\n",
       "    </tr>\n",
       "    <tr>\n",
       "      <th>FRS</th>\n",
       "      <td>0.40</td>\n",
       "      <td>0.60</td>\n",
       "    </tr>\n",
       "    <tr>\n",
       "      <th>HUD</th>\n",
       "      <td>0.27</td>\n",
       "      <td>0.73</td>\n",
       "    </tr>\n",
       "    <tr>\n",
       "      <th>NCUA</th>\n",
       "      <td>0.14</td>\n",
       "      <td>0.86</td>\n",
       "    </tr>\n",
       "    <tr>\n",
       "      <th>OCC</th>\n",
       "      <td>0.26</td>\n",
       "      <td>0.74</td>\n",
       "    </tr>\n",
       "    <tr>\n",
       "      <th>OTS</th>\n",
       "      <td>0.29</td>\n",
       "      <td>0.71</td>\n",
       "    </tr>\n",
       "  </tbody>\n",
       "</table>\n",
       "</div>"
      ],
      "text/plain": [
       "approved     False  True \n",
       "agency_abbr              \n",
       "CFPB          0.25   0.75\n",
       "FDIC          0.22   0.78\n",
       "FRS           0.40   0.60\n",
       "HUD           0.27   0.73\n",
       "NCUA          0.14   0.86\n",
       "OCC           0.26   0.74\n",
       "OTS           0.29   0.71"
      ]
     },
     "execution_count": 179,
     "metadata": {},
     "output_type": "execute_result"
    }
   ],
   "source": [
    "ct = pd.crosstab(smpl.agency_abbr, smpl.approved)\n",
    "ct.div(ct.sum(axis=1), axis=0).round(2)"
   ]
  },
  {
   "cell_type": "markdown",
   "metadata": {},
   "source": [
    "A bit."
   ]
  },
  {
   "cell_type": "markdown",
   "metadata": {},
   "source": [
    "## Unsupervised\n",
    "\n",
    "Let's look at unsupervised clustering to see if there are any natural distinctions in the data we should take into account. Given the size of the data set, PCA will probably be the fastest. Note that we are not at this time performing appropriate transformations for this data. We have a lot of ordinal features that ought to be one-hot for a proper PCA to work. At the moment, we're just looking for low-hanging fruit."
   ]
  },
  {
   "cell_type": "code",
   "execution_count": 128,
   "metadata": {},
   "outputs": [
    {
     "name": "stdout",
     "output_type": "stream",
     "text": [
      "[0.12186255 0.10181401 0.08038989 0.07244039 0.06390785]\n"
     ]
    }
   ],
   "source": [
    "from sklearn.decomposition import PCA\n",
    "from sklearn.preprocessing import StandardScaler\n",
    "from sklearn.pipeline import make_pipeline\n",
    "pipe = make_pipeline(StandardScaler(), PCA(n_components=5))#we'll only graph the first two, but we want to see how quickly the R^2 drops off.\n",
    "pipe.fit(smpl.select_dtypes(exclude=['object']).dropna())\n",
    "pca = pipe.named_steps['pca']\n",
    "print(pca.explained_variance_ratio_)"
   ]
  },
  {
   "cell_type": "markdown",
   "metadata": {},
   "source": [
    "We are not explaining much. Let's look at the first two components conditioned on mortgage approval"
   ]
  },
  {
   "cell_type": "code",
   "execution_count": 140,
   "metadata": {},
   "outputs": [
    {
     "data": {
      "text/plain": [
       "(8151,)"
      ]
     },
     "execution_count": 140,
     "metadata": {},
     "output_type": "execute_result"
    }
   ],
   "source": [
    "pca_hat.shape\n",
    "smpl.dropna().approved.shape"
   ]
  },
  {
   "cell_type": "code",
   "execution_count": 154,
   "metadata": {},
   "outputs": [
    {
     "data": {
      "image/png": "[encoded data removed]",
      "text/plain": [
       "<Figure size 432x288 with 1 Axes>"
      ]
     },
     "metadata": {},
     "output_type": "display_data"
    }
   ],
   "source": [
    "pca_hat = pd.DataFrame(pca.transform(smpl.select_dtypes(exclude=['object']).dropna())[:,:2], columns=['pca_1', 'pca_2'])\n",
    "pca_hat.loc[:, 'approved'] =  smpl.dropna().approved.values\n",
    "ax = sns.scatterplot(x='pca_1', y='pca_2', hue='approved', data=pca_hat)\n",
    "ax.set_title(\"First 2 Principal Components of sample\")\n",
    "plt.show()"
   ]
  },
  {
   "cell_type": "markdown",
   "metadata": {},
   "source": [
    "Looks like it won't be that simple.\n",
    "\n",
    "Anyway, on to modeling, which we'll do on a new notebook."
   ]
  },
  {
   "cell_type": "code",
   "execution_count": 102,
   "metadata": {},
   "outputs": [],
   "source": [
    "import pickle"
   ]
  },
  {
   "cell_type": "code",
   "execution_count": 104,
   "metadata": {},
   "outputs": [],
   "source": [
    "with open('concordance.pkl', 'wb') as f:\n",
    "    pickle.dump(concordances, f)"
   ]
  }
 ],
 "metadata": {
  "kernelspec": {
   "display_name": "Python 3",
   "language": "python",
   "name": "python3"
  },
  "language_info": {
   "codemirror_mode": {
    "name": "ipython",
    "version": 3
   },
   "file_extension": ".py",
   "mimetype": "text/x-python",
   "name": "python",
   "nbconvert_exporter": "python",
   "pygments_lexer": "ipython3",
   "version": "3.6.6"
  }
 },
 "nbformat": 4,
 "nbformat_minor": 2
}
